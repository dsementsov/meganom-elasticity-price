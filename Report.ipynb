{
 "cells": [
  {
   "cell_type": "markdown",
   "metadata": {},
   "source": [
    "# Price elasticity and Profit Maximisation\n",
    "\n",
    "## Assumptions\n",
    "\n",
    "### Сильные\n",
    "\n",
    "1. Клиенты не имеют предпочтений кроме цены к детскому центру\n",
    "\n",
    "*Так как выборка данных не репрезентативна на уровне предприятия мы не можем судить о \n",
    "брендовых предпочтений клиентов. Следовательно центром нашего анализа будет выступать\n",
    "цена.*\n",
    "\n",
    "2. Регион города Симферополя не влияет на предпочтения клиентов также сильно как цена\n",
    "\n",
    "*Так как целью анализа является влияние цены на спрос, на первом этапе мы не обращаем внимание\n",
    "на разницу в районах города.*\n",
    "\n",
    "### Слабые\n",
    "\n",
    "1. Ценовой регион в г.Симферополь отличается от ценового региона других городов Крыма\n",
    "\n",
    "*Типаж городов разный а значит мы фокусируем наше внимание на анализ по г. Симферополь.*\n",
    "\n",
    "2. Присутствует достаточно сильный сезонный эффект\n",
    "\n",
    "*Анализ будет проведен посезонно.*\n",
    "\n",
    "3. Присутствует достаточно сильный эффект выходного дня\n",
    "\n",
    "*Эластичность спроса зависит от того выходной ли день в момент покупки билета.*\n",
    "\n",
    "4. Родителям менее важна цена взрослого билета\n",
    "\n",
    "*Предварительный анализ будет проведен на уровне цены Детского билета (СВП Детские)*\n",
    "\n",
    "5. Месяц и очередность месяцев не имеют такого большого значения как тип сезона (Слабый / Сильный / Средний)\n",
    "\n",
    "## Нормализация\n",
    "\n",
    "Нормализация в данном случае происходит в 2х частях\n",
    "\n",
    "1 - Мы распределяем цены по ведрам (30-50 ведер должно быть достаточно) тем самым сглаживая функцию по оси цены  \n",
    "2 - Мы берем натуральный логарифм количества тем самым сглаживая эффект случайных клиентов\n",
    "\n",
    "\n",
    "## Внешний вид функции\n",
    "\n",
    "Согласно экономической теории функция спроса принимает или линейный вид с негативным наклоном или concave квадратичной фунции  \n",
    "Рассмотрим оба варианта\n",
    "\n",
    "\n",
    "## Чистка данных"
   ]
  },
  {
   "cell_type": "code",
   "execution_count": 680,
   "metadata": {},
   "outputs": [],
   "source": [
    "import pandas as pd\n",
    "import seaborn as sns\n",
    "import matplotlib.pyplot as plt\n",
    "import numpy as np\n",
    "import statsmodels.formula.api as smf\n",
    "import statsmodels.api as sm\n",
    "import calendar"
   ]
  },
  {
   "cell_type": "code",
   "execution_count": 681,
   "metadata": {},
   "outputs": [],
   "source": [
    "df = pd.read_excel('./СРВЗВ наценка от 31.01.2020.xlsx', sheet_name='Данные')"
   ]
  },
  {
   "cell_type": "code",
   "execution_count": 682,
   "metadata": {},
   "outputs": [
    {
     "data": {
      "text/html": [
       "<div>\n",
       "<style scoped>\n",
       "    .dataframe tbody tr th:only-of-type {\n",
       "        vertical-align: middle;\n",
       "    }\n",
       "\n",
       "    .dataframe tbody tr th {\n",
       "        vertical-align: top;\n",
       "    }\n",
       "\n",
       "    .dataframe thead th {\n",
       "        text-align: right;\n",
       "    }\n",
       "</style>\n",
       "<table border=\"1\" class=\"dataframe\">\n",
       "  <thead>\n",
       "    <tr style=\"text-align: right;\">\n",
       "      <th></th>\n",
       "      <th>Тип</th>\n",
       "      <th>Дата</th>\n",
       "      <th>Район</th>\n",
       "      <th>Стоимость билета</th>\n",
       "      <th>Человек</th>\n",
       "      <th>Сумма (руб.)</th>\n",
       "      <th>День недели</th>\n",
       "      <th>Период</th>\n",
       "    </tr>\n",
       "  </thead>\n",
       "  <tbody>\n",
       "    <tr>\n",
       "      <th>0</th>\n",
       "      <td>1. СВП Детские</td>\n",
       "      <td>2018-03-28</td>\n",
       "      <td>Киевский р-н СМФ</td>\n",
       "      <td>940.0</td>\n",
       "      <td>2</td>\n",
       "      <td>1880</td>\n",
       "      <td>среда</td>\n",
       "      <td>2018-03-31</td>\n",
       "    </tr>\n",
       "    <tr>\n",
       "      <th>1</th>\n",
       "      <td>1. СВП Детские</td>\n",
       "      <td>2019-02-12</td>\n",
       "      <td>Судак</td>\n",
       "      <td>500.0</td>\n",
       "      <td>2</td>\n",
       "      <td>1000</td>\n",
       "      <td>вторник</td>\n",
       "      <td>2019-02-28</td>\n",
       "    </tr>\n",
       "    <tr>\n",
       "      <th>2</th>\n",
       "      <td>1. СВП Детские</td>\n",
       "      <td>2018-02-19</td>\n",
       "      <td>Другой город</td>\n",
       "      <td>640.0</td>\n",
       "      <td>2</td>\n",
       "      <td>1280</td>\n",
       "      <td>понедельник</td>\n",
       "      <td>2018-02-28</td>\n",
       "    </tr>\n",
       "    <tr>\n",
       "      <th>3</th>\n",
       "      <td>1. СВП Детские</td>\n",
       "      <td>2018-02-10</td>\n",
       "      <td>Бахчисарайский р-н</td>\n",
       "      <td>720.0</td>\n",
       "      <td>4</td>\n",
       "      <td>2880</td>\n",
       "      <td>суббота</td>\n",
       "      <td>2018-02-28</td>\n",
       "    </tr>\n",
       "    <tr>\n",
       "      <th>4</th>\n",
       "      <td>1. СВП Детские</td>\n",
       "      <td>2019-10-08</td>\n",
       "      <td></td>\n",
       "      <td>500.0</td>\n",
       "      <td>16</td>\n",
       "      <td>8000</td>\n",
       "      <td>вторник</td>\n",
       "      <td>2019-10-31</td>\n",
       "    </tr>\n",
       "  </tbody>\n",
       "</table>\n",
       "</div>"
      ],
      "text/plain": [
       "              Тип       Дата  ...  День недели     Период\n",
       "0  1. СВП Детские 2018-03-28  ...        среда 2018-03-31\n",
       "1  1. СВП Детские 2019-02-12  ...      вторник 2019-02-28\n",
       "2  1. СВП Детские 2018-02-19  ...  понедельник 2018-02-28\n",
       "3  1. СВП Детские 2018-02-10  ...      суббота 2018-02-28\n",
       "4  1. СВП Детские 2019-10-08  ...      вторник 2019-10-31\n",
       "\n",
       "[5 rows x 8 columns]"
      ]
     },
     "execution_count": 682,
     "metadata": {},
     "output_type": "execute_result"
    }
   ],
   "source": [
    "df.head()"
   ]
  },
  {
   "cell_type": "code",
   "execution_count": 683,
   "metadata": {},
   "outputs": [],
   "source": [
    "# Английские колонки для удобства\n",
    "\n",
    "df.columns = ['Type', 'Date', 'Region', 'Price', 'Qt', 'Sum', 'Day', 'Period']"
   ]
  },
  {
   "cell_type": "code",
   "execution_count": 684,
   "metadata": {},
   "outputs": [],
   "source": [
    "# Конвертация и фильтр данных\n",
    "df.Price = df.Price.astype(float)\n",
    "# Фильтруем неполные данные\n",
    "df = df[df.Qt != ' ']\n",
    "df.Qt = df.Qt.astype(int)"
   ]
  },
  {
   "cell_type": "code",
   "execution_count": 942,
   "metadata": {},
   "outputs": [],
   "source": [
    "# Дополнительные функции\n",
    "\n",
    "def which_season(x):\n",
    "    '''Возвращает тип сезона исходя из переменной типа Timestamp'''\n",
    "    if x.month in [3, 4, 5, 9, 10, 11]:\n",
    "        return 'weak'\n",
    "    if x.month in [6, 7, 8]:\n",
    "        return 'not-season'\n",
    "    else:\n",
    "        return 'season'\n",
    "\n",
    "def if_weekday(x):\n",
    "    '''Возвращает рабочий == 1 / нерабочий == 0 день исходя из названия дня недели'''\n",
    "    if x in ['суббота', 'воскресенье']:\n",
    "        return 0\n",
    "    else:\n",
    "        return 1\n",
    "    \n",
    "def interval_mean(x):\n",
    "    binned_df = df_target[df_target.Bins == x]\n",
    "    return binned_df.Price.mean()\n",
    "    return x.mid\n",
    "\n",
    "def get_roots(ols, param_a, param_b, param_c, a_multi=1, b_multi=1):\n",
    "    '''Получить корни квадратного уравнения'''\n",
    "    a = ols.params.get(param_a) * a_multi\n",
    "    b = ols.params.get(param_b) * b_multi\n",
    "    c = ols.params.get(param_c)\n",
    "    if c is None:\n",
    "        c = 0\n",
    "    print(f'Параметры квадратной функции a: {a}, b: {b}, c:{c}')\n",
    "    x1 = (-b + np.sqrt(np.square(b) - (4*a*c)) ) / (2*a)\n",
    "    x2 = (-b - np.sqrt(np.square(b) - (4*a*c) )) / (2*a)\n",
    "    return x1, x2"
   ]
  },
  {
   "cell_type": "markdown",
   "metadata": {},
   "source": [
    "## Создание дополнительных переменных"
   ]
  },
  {
   "cell_type": "code",
   "execution_count": 686,
   "metadata": {},
   "outputs": [],
   "source": [
    "# Создаем новые переменные\n",
    "\n",
    "df['Workday'] = df.Day.apply(if_weekday)\n",
    "df['Season'] = df.Date.apply(which_season)\n",
    "df['Year'] = df.Date.apply(lambda x: x.year)\n",
    "df['Month'] = df.Date.apply(lambda x: calendar.month_name[x.month])"
   ]
  },
  {
   "cell_type": "code",
   "execution_count": 687,
   "metadata": {},
   "outputs": [
    {
     "data": {
      "text/html": [
       "<div>\n",
       "<style scoped>\n",
       "    .dataframe tbody tr th:only-of-type {\n",
       "        vertical-align: middle;\n",
       "    }\n",
       "\n",
       "    .dataframe tbody tr th {\n",
       "        vertical-align: top;\n",
       "    }\n",
       "\n",
       "    .dataframe thead th {\n",
       "        text-align: right;\n",
       "    }\n",
       "</style>\n",
       "<table border=\"1\" class=\"dataframe\">\n",
       "  <thead>\n",
       "    <tr style=\"text-align: right;\">\n",
       "      <th></th>\n",
       "      <th>Type</th>\n",
       "      <th>Date</th>\n",
       "      <th>Region</th>\n",
       "      <th>Price</th>\n",
       "      <th>Qt</th>\n",
       "      <th>Sum</th>\n",
       "      <th>Day</th>\n",
       "      <th>Period</th>\n",
       "      <th>Workday</th>\n",
       "      <th>Season</th>\n",
       "      <th>Year</th>\n",
       "      <th>Month</th>\n",
       "    </tr>\n",
       "  </thead>\n",
       "  <tbody>\n",
       "    <tr>\n",
       "      <th>0</th>\n",
       "      <td>1. СВП Детские</td>\n",
       "      <td>2018-03-28</td>\n",
       "      <td>Киевский р-н СМФ</td>\n",
       "      <td>940.0</td>\n",
       "      <td>2</td>\n",
       "      <td>1880</td>\n",
       "      <td>среда</td>\n",
       "      <td>2018-03-31</td>\n",
       "      <td>1</td>\n",
       "      <td>weak</td>\n",
       "      <td>2018</td>\n",
       "      <td>March</td>\n",
       "    </tr>\n",
       "    <tr>\n",
       "      <th>1</th>\n",
       "      <td>1. СВП Детские</td>\n",
       "      <td>2019-02-12</td>\n",
       "      <td>Судак</td>\n",
       "      <td>500.0</td>\n",
       "      <td>2</td>\n",
       "      <td>1000</td>\n",
       "      <td>вторник</td>\n",
       "      <td>2019-02-28</td>\n",
       "      <td>1</td>\n",
       "      <td>season</td>\n",
       "      <td>2019</td>\n",
       "      <td>February</td>\n",
       "    </tr>\n",
       "    <tr>\n",
       "      <th>2</th>\n",
       "      <td>1. СВП Детские</td>\n",
       "      <td>2018-02-19</td>\n",
       "      <td>Другой город</td>\n",
       "      <td>640.0</td>\n",
       "      <td>2</td>\n",
       "      <td>1280</td>\n",
       "      <td>понедельник</td>\n",
       "      <td>2018-02-28</td>\n",
       "      <td>1</td>\n",
       "      <td>season</td>\n",
       "      <td>2018</td>\n",
       "      <td>February</td>\n",
       "    </tr>\n",
       "    <tr>\n",
       "      <th>3</th>\n",
       "      <td>1. СВП Детские</td>\n",
       "      <td>2018-02-10</td>\n",
       "      <td>Бахчисарайский р-н</td>\n",
       "      <td>720.0</td>\n",
       "      <td>4</td>\n",
       "      <td>2880</td>\n",
       "      <td>суббота</td>\n",
       "      <td>2018-02-28</td>\n",
       "      <td>0</td>\n",
       "      <td>season</td>\n",
       "      <td>2018</td>\n",
       "      <td>February</td>\n",
       "    </tr>\n",
       "    <tr>\n",
       "      <th>4</th>\n",
       "      <td>1. СВП Детские</td>\n",
       "      <td>2019-10-08</td>\n",
       "      <td></td>\n",
       "      <td>500.0</td>\n",
       "      <td>16</td>\n",
       "      <td>8000</td>\n",
       "      <td>вторник</td>\n",
       "      <td>2019-10-31</td>\n",
       "      <td>1</td>\n",
       "      <td>weak</td>\n",
       "      <td>2019</td>\n",
       "      <td>October</td>\n",
       "    </tr>\n",
       "  </tbody>\n",
       "</table>\n",
       "</div>"
      ],
      "text/plain": [
       "             Type       Date              Region  ...  Season  Year     Month\n",
       "0  1. СВП Детские 2018-03-28    Киевский р-н СМФ  ...    weak  2018     March\n",
       "1  1. СВП Детские 2019-02-12               Судак  ...  season  2019  February\n",
       "2  1. СВП Детские 2018-02-19        Другой город  ...  season  2018  February\n",
       "3  1. СВП Детские 2018-02-10  Бахчисарайский р-н  ...  season  2018  February\n",
       "4  1. СВП Детские 2019-10-08                      ...    weak  2019   October\n",
       "\n",
       "[5 rows x 12 columns]"
      ]
     },
     "execution_count": 687,
     "metadata": {},
     "output_type": "execute_result"
    }
   ],
   "source": [
    "df.head()"
   ]
  },
  {
   "cell_type": "code",
   "execution_count": 1084,
   "metadata": {},
   "outputs": [
    {
     "name": "stderr",
     "output_type": "stream",
     "text": [
      "/Library/Frameworks/Python.framework/Versions/3.7/lib/python3.7/site-packages/ipykernel_launcher.py:12: UserWarning: Boolean Series key will be reindexed to match DataFrame index.\n",
      "  if sys.path[0] == '':\n",
      "/Library/Frameworks/Python.framework/Versions/3.7/lib/python3.7/site-packages/ipykernel_launcher.py:18: UserWarning: Boolean Series key will be reindexed to match DataFrame index.\n",
      "/Library/Frameworks/Python.framework/Versions/3.7/lib/python3.7/site-packages/ipykernel_launcher.py:19: UserWarning: Boolean Series key will be reindexed to match DataFrame index.\n"
     ]
    }
   ],
   "source": [
    "# фильтруем датасет исходя из предположений\n",
    "\n",
    "# Указать тип сезона\n",
    "target_season = 'not-season' # weak / season / not-season\n",
    "target_year = 2019 # 2018 / 2019\n",
    "target_day = 1 # 1 для рабочего дня 0 для нерабочего дня\n",
    "target_ticket = '1. СВП Детские'\n",
    "bins = 40\n",
    "\n",
    "def filter_df(df, target_ticket, target_year, target_season, target_day):\n",
    "    df_target = df[df.Season == target_season]\n",
    "    df_target = df_target[df.Type.str.contains(target_ticket)]\n",
    "#     if target_season == 'season':\n",
    "#         df_target = df_target[((df.Year == target_year) & (df.Month != 'December')) | ((df.Year == target_year-1) & (df.Month == 'December'))]\n",
    "#     else:\n",
    "#         df_target = df_target[df.Year == target_year]\n",
    "#    df_target = df_target[df.Month == 'December']\n",
    "    df_target = df_target[(df.Region.str.contains('р-н')) | (df.Region == ' ')]\n",
    "    df_target = df_target[df.Workday == target_day]\n",
    "    \n",
    "    return df_target\n",
    "\n",
    "df_target = filter_df(df, target_ticket, target_year,  target_season, target_day)\n",
    "\n",
    "\n",
    "# распределяем цену по бакетам\n",
    "df_target['Bins'] = pd.cut(df_target.Price, bins)\n",
    "df_target['AvPrice'] = df_target.Bins.apply(interval_mean)\n",
    "df_target.AvPrice = df_target.AvPrice.astype(float)\n",
    "bins = df_target[['Bins', 'AvPrice']]\n",
    "df_target = df_target.groupby(by=['AvPrice']).sum().reset_index()\n",
    "\n",
    "df_target = df_target[['Qt', 'AvPrice']]\n",
    "\n",
    "data = pd.DataFrame({'q': df_target.Qt, 'a_price': df_target.AvPrice})"
   ]
  },
  {
   "cell_type": "code",
   "execution_count": 1085,
   "metadata": {},
   "outputs": [
    {
     "data": {
      "text/plain": [
       "<matplotlib.axes._subplots.AxesSubplot at 0x13b914a90>"
      ]
     },
     "execution_count": 1085,
     "metadata": {},
     "output_type": "execute_result"
    },
    {
     "data": {
      "image/png": "[encoded data removed]",
      "text/plain": [
       "<Figure size 864x864 with 1 Axes>"
      ]
     },
     "metadata": {
      "needs_background": "light"
     },
     "output_type": "display_data"
    }
   ],
   "source": [
    "# представляем визуально распределение цены / количества\n",
    "fix, ax = plt.subplots(figsize=(12,12))\n",
    "sns.scatterplot(y='q', x='a_price', data=data)"
   ]
  },
  {
   "cell_type": "code",
   "execution_count": 1086,
   "metadata": {},
   "outputs": [
    {
     "data": {
      "text/plain": [
       "<matplotlib.axes._subplots.AxesSubplot at 0x13b5246a0>"
      ]
     },
     "execution_count": 1086,
     "metadata": {},
     "output_type": "execute_result"
    },
    {
     "data": {
      "image/png": "[encoded data removed]",
      "text/plain": [
       "<Figure size 864x864 with 1 Axes>"
      ]
     },
     "metadata": {
      "needs_background": "light"
     },
     "output_type": "display_data"
    }
   ],
   "source": [
    "temp = data\n",
    "# Нижняя левая часть явно является нерепрезентативной для анализа цены, фильтруем исходя из средней цены\n",
    "temp['log_q'] = np.log(data.q)\n",
    "temp = temp[['log_q', 'a_price']]\n",
    "#temp = data[~((data.log_q < 3) & (data.a_price < data.a_price.mean())) ]\n",
    "# Аргументация: При 1ом предположении при низкой цене спрос должен расти выше предложения - так как спрос позитивный и соседние ведра явно содержат наблюдения\n",
    "# мы фильтруем эти значения не смотря на невысокий Z-score (таким образом мы повышваем предвзятость модели но сильно уменьшаем варианс)\n",
    "# представляем визуально распределение цены / количества\n",
    "fix, ax = plt.subplots(figsize=(12,12))\n",
    "sns.scatterplot(y='log_q', x='a_price', data=temp)"
   ]
  },
  {
   "cell_type": "markdown",
   "metadata": {},
   "source": [
    "## Получение экстренумов как максимизация дохода\n",
    "\n",
    "### Формулы\n",
    "\n",
    "TR (Total revenue) = Quantity * Price\n",
    "\n",
    "$log(Quantity) = a * p^{2} + b*p + c$\n",
    "\n",
    "Где log - натуральный логарифм\n",
    "Так как натуральный логарифм это безопасное симметричное преобразование\n",
    "мы можем его сокращать следующим путем:\n",
    "\n",
    "$log(Quantity) = a * p^{2} + b*p + c$  \n",
    "$Q = (a * p^{2} + b*p + c)^{e}$\n",
    "\n",
    "Подставляем в формулу дохода\n",
    "\n",
    "$TR = (ap^{2} + bp + c)^{e} * p$\n",
    "\n",
    "## Первая функиця - квадратичная с интерcептом\n",
    "Для максимизации прибыли берем первый дериватив и прировнять к 0 - с интерцептом\n",
    "\n",
    "$dTR/dp = (ap ^ {2} + bp + c)^{e-1} ((2e+1)ap^{2} + (e+1)bp + c) =^{!} 0$\n",
    "\n",
    "Очевидно что при этом одна из частей мультипликации должна равняться 0\n",
    "\n",
    "часть $(ap ^ {2} + bp + c)^{e-1}$ приравнивается к $(ap ^ {2} + bp + c)$ \n",
    "и имеет стандартные корни\n",
    "\n",
    "часть $((2e+1)ap^{2} + (e+1)bp + c)$ это обычное квадратное уравнение"
   ]
  },
  {
   "cell_type": "code",
   "execution_count": 1100,
   "metadata": {},
   "outputs": [
    {
     "name": "stdout",
     "output_type": "stream",
     "text": [
      "                            OLS Regression Results                            \n",
      "==============================================================================\n",
      "Dep. Variable:                  log_q   R-squared:                       0.766\n",
      "Model:                            OLS   Adj. R-squared:                  0.749\n",
      "Method:                 Least Squares   F-statistic:                     45.71\n",
      "Date:                Sun, 02 Feb 2020   Prob (F-statistic):           1.52e-09\n",
      "Time:                        23:03:16   Log-Likelihood:                -40.813\n",
      "No. Observations:                  31   AIC:                             87.63\n",
      "Df Residuals:                      28   BIC:                             91.93\n",
      "Df Model:                           2                                         \n",
      "Covariance Type:            nonrobust                                         \n",
      "======================================================================================\n",
      "                         coef    std err          t      P>|t|      [0.025      0.975]\n",
      "--------------------------------------------------------------------------------------\n",
      "Intercept            -10.6583      2.151     -4.954      0.000     -15.065      -6.251\n",
      "np.square(a_price) -3.685e-05   4.33e-06     -8.511      0.000   -4.57e-05    -2.8e-05\n",
      "a_price                0.0490      0.006      7.814      0.000       0.036       0.062\n",
      "==============================================================================\n",
      "Omnibus:                        1.530   Durbin-Watson:                   1.009\n",
      "Prob(Omnibus):                  0.465   Jarque-Bera (JB):                1.435\n",
      "Skew:                          -0.456   Prob(JB):                        0.488\n",
      "Kurtosis:                       2.472   Cond. No.                     7.36e+06\n",
      "==============================================================================\n",
      "\n",
      "Warnings:\n",
      "[1] Standard Errors assume that the covariance matrix of the errors is correctly specified.\n",
      "[2] The condition number is large, 7.36e+06. This might indicate that there are\n",
      "strong multicollinearity or other numerical problems.\n"
     ]
    }
   ],
   "source": [
    "# Квадратное распределение с интерсептом\n",
    "ols_intercept = smf.ols('log_q ~ np.square(a_price) + a_price', data=temp).fit()\n",
    "print(ols_intercept.summary())"
   ]
  },
  {
   "cell_type": "code",
   "execution_count": 1101,
   "metadata": {},
   "outputs": [
    {
     "data": {
      "image/png": "[encoded data removed]",
      "text/plain": [
       "<Figure size 864x864 with 1 Axes>"
      ]
     },
     "metadata": {
      "needs_background": "light"
     },
     "output_type": "display_data"
    }
   ],
   "source": [
    "fix, ax = plt.subplots(figsize=(12,12))\n",
    "fig = sm.graphics.plot_fit(ols_intercept, 'a_price', data=temp, ax=ax)"
   ]
  },
  {
   "cell_type": "code",
   "execution_count": 1089,
   "metadata": {},
   "outputs": [
    {
     "data": {
      "image/png": "[encoded data removed]",
      "text/plain": [
       "<Figure size 864x576 with 3 Axes>"
      ]
     },
     "metadata": {
      "needs_background": "light"
     },
     "output_type": "display_data"
    }
   ],
   "source": [
    "fig = plt.figure(figsize=(12,8))\n",
    "fig = sm.graphics.plot_partregress_grid(ols_intercept, fig=fig)"
   ]
  },
  {
   "cell_type": "code",
   "execution_count": 1090,
   "metadata": {},
   "outputs": [
    {
     "name": "stdout",
     "output_type": "stream",
     "text": [
      "Параметры квадратной функции a: -3.684723313552867e-05, b: 0.04897117699275575, c:-10.658341774537412\n",
      "Левая часть (274.2287816273505, 1054.8038980485892)\n",
      "Параметры квадратной функции a: -0.00023716956165813186, b: 0.18208863753041538, c:-10.658341774537412\n",
      "Правая часть (63.84262517638639, 703.9145703818156)\n"
     ]
    }
   ],
   "source": [
    "# первая функция - c интерцептом\n",
    "param_a = 'np.square(a_price)'\n",
    "param_b = 'a_price'\n",
    "param_c = 'Intercept'\n",
    "\n",
    "roots1 = get_roots(ols_intercept, param_a, param_b, param_c)\n",
    "print(f'Левая часть {roots1}')\n",
    "roots2 = get_roots(ols_intercept, param_a, param_b, param_c, a_multi = ( (2*np.e) + 1), b_multi = (np.e + 1))\n",
    "print(f'Правая часть {roots2}')"
   ]
  },
  {
   "cell_type": "markdown",
   "metadata": {},
   "source": [
    "Мы можем провести тест по нахождению единственного из 4х экстренумов но в случае квадратичной функции вполне очевидно\n",
    "какое из значений верное (см график, максималный корень второго уравнения)"
   ]
  },
  {
   "cell_type": "markdown",
   "metadata": {},
   "source": [
    "## Вторая функция - квадратичная без интерцепта приводится к следующей форме\n",
    "\n",
    "$\\dfrac{\\left(\\left(2\\mathrm{e}+1\\right)ax+\\left(\\mathrm{e}+1\\right)b\\right)\\left(ax^2+bx\\right)^\\mathrm{e}}{ax+b}$\n",
    "\n",
    "Очевидно что левая половина возвращает отрицательную или слишком низкую цену что нам не подходит.  \n",
    "Правая часть формулы - обычное квадратное уравнение с с = 0\n",
    "\n",
    "$\\left(ax^2+ax\\right)$"
   ]
  },
  {
   "cell_type": "code",
   "execution_count": 1091,
   "metadata": {},
   "outputs": [
    {
     "name": "stdout",
     "output_type": "stream",
     "text": [
      "                                 OLS Regression Results                                \n",
      "=======================================================================================\n",
      "Dep. Variable:                  log_q   R-squared (uncentered):                   0.928\n",
      "Model:                            OLS   Adj. R-squared (uncentered):              0.923\n",
      "Method:                 Least Squares   F-statistic:                              186.4\n",
      "Date:                Sun, 02 Feb 2020   Prob (F-statistic):                    2.81e-17\n",
      "Time:                        22:53:39   Log-Likelihood:                         -50.570\n",
      "No. Observations:                  31   AIC:                                      105.1\n",
      "Df Residuals:                      29   BIC:                                      108.0\n",
      "Df Model:                           2                                                  \n",
      "Covariance Type:            nonrobust                                                  \n",
      "======================================================================================\n",
      "                         coef    std err          t      P>|t|      [0.025      0.975]\n",
      "--------------------------------------------------------------------------------------\n",
      "np.square(a_price) -1.634e-05   1.71e-06     -9.577      0.000   -1.98e-05   -1.28e-05\n",
      "a_price                0.0183      0.001     13.186      0.000       0.016       0.021\n",
      "==============================================================================\n",
      "Omnibus:                        3.012   Durbin-Watson:                   0.486\n",
      "Prob(Omnibus):                  0.222   Jarque-Bera (JB):                2.685\n",
      "Skew:                          -0.689   Prob(JB):                        0.261\n",
      "Kurtosis:                       2.577   Cond. No.                     3.54e+03\n",
      "==============================================================================\n",
      "\n",
      "Warnings:\n",
      "[1] Standard Errors assume that the covariance matrix of the errors is correctly specified.\n",
      "[2] The condition number is large, 3.54e+03. This might indicate that there are\n",
      "strong multicollinearity or other numerical problems.\n"
     ]
    }
   ],
   "source": [
    "# Квадратное распределение без интерсепта\n",
    "ols_no_intercept = smf.ols('log_q ~ np.square(a_price) + a_price - 1', data=temp).fit()\n",
    "print(ols_no_intercept.summary())"
   ]
  },
  {
   "cell_type": "code",
   "execution_count": 1092,
   "metadata": {},
   "outputs": [
    {
     "data": {
      "image/png": "[encoded data removed]",
      "text/plain": [
       "<Figure size 864x864 with 1 Axes>"
      ]
     },
     "metadata": {
      "needs_background": "light"
     },
     "output_type": "display_data"
    }
   ],
   "source": [
    "fix, ax = plt.subplots(figsize=(12,12))\n",
    "fig = sm.graphics.plot_fit(ols_no_intercept, 'a_price', data=temp, ax=ax)"
   ]
  },
  {
   "cell_type": "code",
   "execution_count": 1093,
   "metadata": {},
   "outputs": [
    {
     "name": "stdout",
     "output_type": "stream",
     "text": [
      "Левая часть 648.7989899724918\n",
      "Правая часть 1123.1090573983645\n",
      "Первый корень очевидный выбор\n"
     ]
    }
   ],
   "source": [
    "# вторая функция - квадратичная без интерcепта\n",
    "param_a = 'np.square(a_price)'\n",
    "param_b = 'a_price'\n",
    "param_c = ''\n",
    "\n",
    "a = ols_no_intercept.params.get(param_a)\n",
    "b = ols_no_intercept.params.get(param_b)\n",
    "\n",
    "roots3 = (-b*(np.e+1)) / ((2*np.e + 1) * a)\n",
    "print(f'Левая часть {roots3}')\n",
    "roots4 = - b / a\n",
    "print(f'Правая часть {roots4}')\n",
    "\n",
    "print('Первый корень очевидный выбор')"
   ]
  },
  {
   "cell_type": "markdown",
   "metadata": {},
   "source": [
    "## Третья функция - линейная \n",
    "\n",
    "в этом случае нам более интересна функция цены\n",
    "\n",
    "\n",
    "$log(Q) = ap + c$\n",
    "\n",
    "$ p = \\frac{log(Q) - c}{a}$ \n",
    "\n",
    "$TR = q * \\frac{log(Q) - c}{a}$\n",
    "\n",
    "Что приводится к диференциалу\n",
    "\n",
    "$\\dfrac{\\ln\\left(q\\right)-c+1}{a} = 0$\n",
    "\n",
    "Следовательно для достижения максимальной выручки нужно \n",
    "\n",
    "$log(Q) = c-1$ билетов\n"
   ]
  },
  {
   "cell_type": "code",
   "execution_count": 1094,
   "metadata": {},
   "outputs": [
    {
     "name": "stdout",
     "output_type": "stream",
     "text": [
      "                            OLS Regression Results                            \n",
      "==============================================================================\n",
      "Dep. Variable:                  log_q   R-squared:                       0.159\n",
      "Model:                            OLS   Adj. R-squared:                  0.130\n",
      "Method:                 Least Squares   F-statistic:                     5.483\n",
      "Date:                Sun, 02 Feb 2020   Prob (F-statistic):             0.0263\n",
      "Time:                        22:53:46   Log-Likelihood:                -60.611\n",
      "No. Observations:                  31   AIC:                             125.2\n",
      "Df Residuals:                      29   BIC:                             128.1\n",
      "Df Model:                           1                                         \n",
      "Covariance Type:            nonrobust                                         \n",
      "==============================================================================\n",
      "                 coef    std err          t      P>|t|      [0.025      0.975]\n",
      "------------------------------------------------------------------------------\n",
      "Intercept      6.8492      1.172      5.845      0.000       4.453       9.246\n",
      "a_price       -0.0038      0.002     -2.342      0.026      -0.007      -0.000\n",
      "==============================================================================\n",
      "Omnibus:                        4.874   Durbin-Watson:                   0.268\n",
      "Prob(Omnibus):                  0.087   Jarque-Bera (JB):                2.728\n",
      "Skew:                          -0.500   Prob(JB):                        0.256\n",
      "Kurtosis:                       1.946   Cond. No.                     2.64e+03\n",
      "==============================================================================\n",
      "\n",
      "Warnings:\n",
      "[1] Standard Errors assume that the covariance matrix of the errors is correctly specified.\n",
      "[2] The condition number is large, 2.64e+03. This might indicate that there are\n",
      "strong multicollinearity or other numerical problems.\n"
     ]
    }
   ],
   "source": [
    "# Линейная функция\n",
    "ols_linear = smf.ols('log_q ~ a_price', data=temp).fit()\n",
    "print(ols_linear.summary())"
   ]
  },
  {
   "cell_type": "code",
   "execution_count": 1095,
   "metadata": {},
   "outputs": [
    {
     "data": {
      "image/png": "[encoded data removed]",
      "text/plain": [
       "<Figure size 864x864 with 1 Axes>"
      ]
     },
     "metadata": {
      "needs_background": "light"
     },
     "output_type": "display_data"
    }
   ],
   "source": [
    "fix, ax = plt.subplots(figsize=(12,12))\n",
    "fig = sm.graphics.plot_fit(ols_linear, 'a_price', data=temp, ax=ax)"
   ]
  },
  {
   "cell_type": "code",
   "execution_count": 1096,
   "metadata": {},
   "outputs": [
    {
     "name": "stdout",
     "output_type": "stream",
     "text": [
      "Цена для максимизации прибыли согласно линейной функции: p = 260.67325139873174 при продаже 121.6709062633113 билетов\n"
     ]
    }
   ],
   "source": [
    "# Третья функция - линейная с негативным наклоном\n",
    "c = ols_linear.params.get('Intercept')\n",
    "a = ols_linear.params.get('a_price')\n",
    "\n",
    "lnq = c - 1\n",
    "\n",
    "p = (lnq - c) / a\n",
    "\n",
    "print(f'Цена для максимизации прибыли согласно линейной функции: p = {p} при продаже {lnq**np.e} билетов') "
   ]
  },
  {
   "cell_type": "code",
   "execution_count": null,
   "metadata": {},
   "outputs": [],
   "source": []
  },
  {
   "cell_type": "code",
   "execution_count": 1097,
   "metadata": {},
   "outputs": [
    {
     "name": "stdout",
     "output_type": "stream",
     "text": [
      "(274.2287816273505, 1054.8038980485892)\n",
      "(63.84262517638639, 703.9145703818156)\n",
      "648.7989899724918\n",
      "1123.1090573983645\n",
      "260.67325139873174\n"
     ]
    }
   ],
   "source": [
    "print(roots1)\n",
    "print(roots2)\n",
    "print(roots3)\n",
    "print(roots4)\n",
    "print(p)"
   ]
  },
  {
   "cell_type": "code",
   "execution_count": null,
   "metadata": {},
   "outputs": [],
   "source": []
  },
  {
   "cell_type": "code",
   "execution_count": null,
   "metadata": {},
   "outputs": [],
   "source": []
  }
 ],
 "metadata": {
  "kernelspec": {
   "display_name": "Python 3",
   "language": "python",
   "name": "python3"
  },
  "language_info": {
   "codemirror_mode": {
    "name": "ipython",
    "version": 3
   },
   "file_extension": ".py",
   "mimetype": "text/x-python",
   "name": "python",
   "nbconvert_exporter": "python",
   "pygments_lexer": "ipython3",
   "version": "3.7.1"
  }
 },
 "nbformat": 4,
 "nbformat_minor": 2
}
